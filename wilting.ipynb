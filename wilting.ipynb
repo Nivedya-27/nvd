{
 "cells": [
  {
   "cell_type": "code",
   "execution_count": 17,
   "metadata": {
    "scrolled": true
   },
   "outputs": [
    {
     "name": "stdout",
     "output_type": "stream",
     "text": [
      "[['86', '12 Years a Slave', '8.1', '1', '1', '0', '0', '0', '0', '1', '0\\n'], ['1', 'Hacksaw Ridge', '8.2', '1', '1', '0', '0', '0', '0', '1', '0\\n'], ['46', 'Queen of Katwe', '7.4', '1', '1', '0', '0', '0', '0', '0', '0'], ['44', 'The Wind Rises', '7.8', '1', '1', '0', '0', '0', '0', '0', '0\\n'], ['46', 'A Beautiful Mind', '8.2', '1', '1', '0', '0', '0', '0', '0', '0\\n']]\n"
     ]
    }
   ],
   "source": [
    "from collections import Counter\n",
    "import math\n",
    "def kn(data,query,k,d_f,choice):\n",
    "    dist_index=[]\n",
    "    for index,example in enumerate(data):\n",
    "        dist_index.append((d_f(example[:-1],query),index))\n",
    "    dist_index=sorted(dist_index)\n",
    "    knearest=dist_index[:k]\n",
    "    k_labels=[data[i][1] for distance,i in knearest]\n",
    "    return knearest,choice(k_labels)\n",
    "def mean(labels):\n",
    "    return sum(labels)/float(len(labels))\n",
    "def mode(labels):\n",
    "    return Counter(labels).most_common(1)[0][0]\n",
    "def dist(point1,point2):\n",
    "    sum_sq=0\n",
    "    for i in range(len(point1)):\n",
    "        sum_sq+=math.pow(point1[i]-point2[i],2)\n",
    "    return math.sqrt(sum_sq)\n",
    "def recommend_movies(movieq,kmov):\n",
    "    rawdata=[]\n",
    "    with open('data.csv','r') as md:\n",
    "        next(md)\n",
    "        for line in md.readlines():\n",
    "            row=line.split(',')\n",
    "            rawdata.append(row)\n",
    "    moviedata=[]\n",
    "    for line in rawdata:\n",
    "        moviedata.append(list(map(float,line[2:])))\n",
    "    rec_indices,_=kn(moviedata,movieq,k=kmov,d_f=dist,choice=lambda x:None)\n",
    "    recmovies=[]\n",
    "    for _,index in rec_indices:\n",
    "        recmovies.append(rawdata[index])\n",
    "    return recmovies\n",
    "the_post = [7.2, 1, 1, 0, 0, 0, 0, 1, 0] \n",
    "print(recommend_movies(the_post,kmov=5))"
   ]
  },
  {
   "cell_type": "code",
   "execution_count": null,
   "metadata": {},
   "outputs": [],
   "source": []
  },
  {
   "cell_type": "code",
   "execution_count": null,
   "metadata": {},
   "outputs": [],
   "source": []
  },
  {
   "cell_type": "code",
   "execution_count": null,
   "metadata": {},
   "outputs": [],
   "source": []
  },
  {
   "cell_type": "code",
   "execution_count": null,
   "metadata": {},
   "outputs": [],
   "source": []
  },
  {
   "cell_type": "code",
   "execution_count": null,
   "metadata": {},
   "outputs": [],
   "source": []
  },
  {
   "cell_type": "code",
   "execution_count": null,
   "metadata": {},
   "outputs": [],
   "source": []
  }
 ],
 "metadata": {
  "kernelspec": {
   "display_name": "Python 3",
   "language": "python",
   "name": "python3"
  },
  "language_info": {
   "codemirror_mode": {
    "name": "ipython",
    "version": 3
   },
   "file_extension": ".py",
   "mimetype": "text/x-python",
   "name": "python",
   "nbconvert_exporter": "python",
   "pygments_lexer": "ipython3",
   "version": "3.8.3"
  }
 },
 "nbformat": 4,
 "nbformat_minor": 4
}
